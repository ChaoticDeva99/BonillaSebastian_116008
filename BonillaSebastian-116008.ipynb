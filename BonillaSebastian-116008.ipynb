{
 "cells": [
  {
   "cell_type": "code",
   "execution_count": 1,
   "metadata": {},
   "outputs": [
    {
     "name": "stdout",
     "output_type": "stream",
     "text": [
      "Ingrese un numero que quiera convertir a valor absoluto: 4545\n",
      "El valor absoluto del numero ingresado es:  4545.0\n"
     ]
    }
   ],
   "source": [
    "x = float(input(\"Ingrese un numero que quiera convertir a valor absoluto: \")) \n",
    "# Aqui se guarda en la variable x el numero que ingrese la persona\n",
    "if x >= 0: # Aqui se mira si el numero es negativo o no\n",
    "    print(\"El valor absoluto del numero ingresado es: \",x) \n",
    "else:\n",
    "    print(\"El valor absoluto del numero ingresado es: \",x*-1) # Aqui si el \n",
    "    #numero es negativo se ajusta para dar el valor absoluto\n"
   ]
  },
  {
   "cell_type": "code",
   "execution_count": 2,
   "metadata": {},
   "outputs": [
    {
     "name": "stdout",
     "output_type": "stream",
     "text": [
      "Ingrese el numero entero que desea invertir: 759\n",
      "El numero 759 invertido es 957\n"
     ]
    }
   ],
   "source": [
    "numero_n = input(\"Ingrese el numero entero que desea invertir: \")\n",
    "numero_nf = int(numero_n)\n",
    "numero=0\n",
    "if numero_nf > 0:\n",
    "    numero_nf1 = numero_nf\n",
    "    while numero_nf1 > 0:\n",
    "        digito = numero_nf1%10 # Se obtiene los digitos \n",
    "        numero = (numero*10+digito) # Se pocisiona al comienzo del nuevo numero\n",
    "        numero_nf1 = numero_nf1//10 # Se empieza a trabajar con el siguiente \n",
    "        # digito\n",
    "    print(\"El numero\",numero_n,\"invertido es\",numero)\n",
    "if numero_nf < 0:  # Para el caso de los negativos\n",
    "    numero_nf2 = -1*numero_nf # Para manejarlos como positivos\n",
    "    while numero_nf2 > 0:\n",
    "        digito = numero_nf2%10\n",
    "        numero = (numero*10+digito)\n",
    "        numero_nf2 = numero_nf2//10\n",
    "    print(\"El numero\",numero_n,\"invertido es\",-1*numero)\n",
    "if numero_nf == 0:\n",
    "    print(\"El numero 0 invertido es 0\")"
   ]
  },
  {
   "cell_type": "code",
   "execution_count": null,
   "metadata": {},
   "outputs": [],
   "source": []
  },
  {
   "cell_type": "code",
   "execution_count": 3,
   "metadata": {},
   "outputs": [
    {
     "name": "stdout",
     "output_type": "stream",
     "text": [
      "Ingrese un entero positivo: 456\n",
      "El numero tiene 2 numeros pares y su suma da 10\n"
     ]
    }
   ],
   "source": [
    "entero = int(input(\"Ingrese un entero positivo: \"))\n",
    "if entero > 0:\n",
    "    suma = 0\n",
    "    pares = 0\n",
    "    while entero > 0:\n",
    "        numero = entero%10 # Se hace para halalr el ultimo digito\n",
    "        if numero%2 == 0: # Un numero par da un residuo de 0, si es dividido\n",
    "            # por 2\n",
    "            pares = pares+1 # Se suma al contador de pares\n",
    "            suma = suma+numero\n",
    "        entero = entero//10 # Se pasa al siguiente digito\n",
    "    print(\"El numero tiene\",pares,\"numeros pares y su suma da\",suma)\n",
    "if entero < 0:\n",
    "    print(\"Numero negativo, ingrese un numero positivo\")\n"
   ]
  },
  {
   "cell_type": "code",
   "execution_count": null,
   "metadata": {},
   "outputs": [],
   "source": []
  },
  {
   "cell_type": "code",
   "execution_count": 13,
   "metadata": {},
   "outputs": [
    {
     "name": "stdout",
     "output_type": "stream",
     "text": [
      "Ingrese un número entero: 1\n",
      "El numero  pertenece a la serie de Fibonacci\n"
     ]
    }
   ],
   "source": [
    "from math import floor # Importa la función floor de la librería math\n",
    "num_ent = int(input(\"Ingrese un número entero: \"))    \n",
    "digitos = num_ent     \n",
    "suma = 0 # Comenzamos la suam de digitos en cero\n",
    "while digitos > 0:\n",
    "    num = num_ent - (floor(num_ent/10))*10 # Se determina el ultimo digito\n",
    "    # de x\n",
    "    suma = suma + num # Se suman los digitos de x\n",
    "    digitos = digitos - 1                     \n",
    "    num_ent = int(num_ent/10) # Reducimos el valor de x\n",
    "inicio1 = 0 # Iniciamos el primer valor de la serie Fibonacci en cero\n",
    "inicio2 = 1 # Iniciamos el segundo valor de la serie Fibonacci en uno\n",
    "suma_fib = 0 # Iniciamos la suma de la serie Fibonacci en cero\n",
    "while suma_fib < suma:\n",
    "    suma_fib = inicio1 + inicio2 # Realizamos la suma para Fibonacci\n",
    "    if suma_fib == suma:\n",
    "        print(\"El numero  pertenece a la serie de Fibonacci\")\n",
    "    inicio1 = inicio2  # Se reevalua el primer valor para la suma Fibonacci\n",
    "    inicio2 = suma_fib # Se reevalua el segundo valor para la suma Fibonacci    \n",
    "if suma_fib != suma:\n",
    "    print(\"El numero no pertenece a la serie de Fibonacci\")"
   ]
  },
  {
   "cell_type": "code",
   "execution_count": null,
   "metadata": {},
   "outputs": [],
   "source": []
  },
  {
   "cell_type": "code",
   "execution_count": 10,
   "metadata": {},
   "outputs": [
    {
     "name": "stdout",
     "output_type": "stream",
     "text": [
      "Los 15 primeros múltiplos de 3 = [0, 3, 6, 9, 12, 15, 18, 21, 24, 27, 30, 33, 36, 39, 42]\n",
      "Los numeros restantes múltiplos de 4 = [44, 48, 52, 56, 60, 64, 68, 72, 76, 80, 84, 88, 92, 96, 100]\n"
     ]
    }
   ],
   "source": [
    "lista_mult3 = [] # Lista para múltiplos de 3 vacía\n",
    "lista_mult4 = [] # Lista para múltiplos de 3 vacía\n",
    "for i in range(101): # Se determina el rango en el que se va a iterar\n",
    "    a = i/3\n",
    "    if a == int(i/3): # Se comprueba que sea multiplo de 3\n",
    "        lista_mult3.append(i) \n",
    "        \n",
    "lista_mult3 = lista_mult3[:15] # Se corta hasta el numero 15\n",
    "\n",
    "for i in range(lista_mult3[14],101): # Rango de iteracion\n",
    "    b = i/4                 \n",
    "    if b == int(i/4): # Comprueba que si sea múltiplo de 4 \n",
    "        lista_mult4.append(i) \n",
    "\n",
    "print('Los 15 primeros múltiplos de 3 =',lista_mult3)\n",
    "print('Los numeros restantes múltiplos de 4 =',lista_mult4)"
   ]
  },
  {
   "cell_type": "code",
   "execution_count": 11,
   "metadata": {},
   "outputs": [
    {
     "name": "stdout",
     "output_type": "stream",
     "text": [
      "Digite la coordenada x del circulo 1: 4\n",
      "Digite la coordenada y del circulo 1: 5\n",
      "Digite el radio del circulo 1: 7\n",
      "Digite la coordenada x del circulo 2: 1\n",
      "Digite la coordenada y del circulo 2: 3\n",
      "Digite el radio del circulo 2: 9\n",
      "Digite la coordenada x del punto: 5\n",
      "Digite la coordenada y del punto: 7\n",
      "El punto está contenido dentro de ambos círculos\n"
     ]
    }
   ],
   "source": [
    "coord_x1 = abs(int(input('Digite la coordenada x del circulo 1: ')))\n",
    "coord_y1 = abs(int(input('Digite la coordenada y del circulo 1: ')))\n",
    "rad_c1 = abs(int(input('Digite el radio del circulo 1: ')))\n",
    "# Ingresamos coordenadas del cnetro del circulo 1 al igual que su radio\n",
    "coord_x2 = abs(int(input('Digite la coordenada x del circulo 2: ')))\n",
    "coord_y2 = abs(int(input('Digite la coordenada y del circulo 2: ')))\n",
    "rad_c2 = abs(int(input('Digite el radio del circulo 2: ')))\n",
    "# Ingresamos coordenadas del centro de circulo 2 al igual que su radio\n",
    "punt_x = abs(int(input('Digite la coordenada x del punto: ')))\n",
    "punt_y = abs(int(input('Digite la coordenada y del punto: ')))\n",
    "# ingresamos las coordenadas del punto a evaluar\n",
    "dist_c1_punto = ((punt_x - coord_x1)**2 + (punt_y - coord_y1)**2)**(1/2)\n",
    "dist_c2_punto = ((punt_x - coord_x2)**2 + (punt_y - coord_y2)**2)**(1/2)\n",
    "# Calculamos las distancias\n",
    "if (dist_c1_punto <= rad_c1) and (dist_c2_punto <= rad_c2): \n",
    "    print('El punto está contenido dentro de ambos círculos')    \n",
    "elif (dist_c1_punto > rad_c1) and (dist_c2_punto > rad_c2):\n",
    "    print('El punto está contenido fuera de ambos círculos')    \n",
    "else:\n",
    "    if (dist_c1_punto <= rad_c1):\n",
    "        print('El punto está contenido dentro del círculo 1')        \n",
    "    if (dist_c2_punto <= rad_c2): \n",
    "        print('El punto está contenido dentro del círculo 2')  "
   ]
  },
  {
   "cell_type": "code",
   "execution_count": 5,
   "metadata": {},
   "outputs": [
    {
     "name": "stdout",
     "output_type": "stream",
     "text": [
      "Ingrese un texto: hhhkjh\n",
      "Su texto en mayusculas es: HHHKJH\n"
     ]
    }
   ],
   "source": [
    "lista1 = list(input(\"Ingrese un texto: \"))\n",
    "largo = len(lista1) #Extraigo la longitud de la lista\n",
    "largo1 = largo #Y mantengo una longitud quieta\n",
    "lista2 = []\n",
    "while largo>0: # Mientras la longitud de mi lista no sea cero\n",
    "    elemento = lista1[largo1-largo] #Invocare cada elemento\n",
    "    posicion = ord(elemento)\n",
    "    posicion_nueva = posicion-32 # Para finalmente por medio de ASCII ponerlo\n",
    "    # en mayuscula\n",
    "    nuevo_elemento = chr(posicion_nueva)\n",
    "    lista2.append(nuevo_elemento) #Y se agrega a la lista2\n",
    "    largo -= 1\n",
    "k = ''.join(lista2) #Se convierte la terminada lista2 en cadena\n",
    "print(\"Su texto en mayusculas es:\",k)"
   ]
  },
  {
   "cell_type": "code",
   "execution_count": null,
   "metadata": {},
   "outputs": [],
   "source": []
  },
  {
   "cell_type": "code",
   "execution_count": 6,
   "metadata": {},
   "outputs": [
    {
     "name": "stdout",
     "output_type": "stream",
     "text": [
      "Ingrese una cadena de texto: hola\n",
      "Ingrese otra cadena de texto: hola\n",
      "Los dos textos son iguales por lo tanto tienen el mismo en el diccionario\n"
     ]
    }
   ],
   "source": [
    "cadena1 = input(\"Ingrese una cadena de texto: \") \n",
    "cadena2 = input(\"Ingrese otra cadena de texto: \")\n",
    "cadena1_1 = cadena1.lower() # Pongo en minuscula las cadenas\n",
    "cadena2_1 = cadena2.lower()\n",
    "a = 'áéíóúü' # Creo una lsita para convertir las tildes a sin tilde\n",
    "b = 'aeiouu'\n",
    "cambio = str.maketrans(a,b) # Creo el cambio\n",
    "cadenaf1 = cadena1_1.translate(cambio) # Ejecuto el cambio en las listas\n",
    "cadenaf2 = cadena2_1.translate(cambio)\n",
    "if cadenaf1 < cadenaf2: # Dependiendo de cual palabra es mayor va primero\n",
    "    # una o la otra\n",
    "    print(\"El texto\",cadenaf1,\"va primero en el diccionario que\",\\\n",
    "          cadenaf2)\n",
    "else:\n",
    "    if cadenaf2 < cadenaf1:\n",
    "        print(\"El texto\",cadenaf2,\"va primero en el diccionario que\",\\\n",
    "              cadenaf1)\n",
    "    else: # Si las palabras se determiann iguales, van en el mismo lugar\n",
    "        print(\"Los dos textos son iguales por lo tanto tienen el mismo \"\\\n",
    "              \"en el diccionario\")"
   ]
  },
  {
   "cell_type": "code",
   "execution_count": 7,
   "metadata": {},
   "outputs": [
    {
     "name": "stdout",
     "output_type": "stream",
     "text": [
      "Ingrese un texto: hola bebe\n",
      "   h    \n",
      "  ola   \n",
      "  bebe  \n",
      "        \n"
     ]
    }
   ],
   "source": [
    "triangulo = list(input(\"Ingrese un texto: \"))\n",
    "y = ''.join(triangulo)\n",
    "x = y.replace(\" \",\"\") # Elimino todos los parentesis de la cadena de texto\n",
    "triangulo_lista = list(x)\n",
    "largo = len(triangulo_lista) # Saco la longitud de la lista\n",
    "comienzo = 0 # Establezco los parametros inciales antes de iterar\n",
    "final = 1\n",
    "finalv = 1\n",
    "elemento1 = triangulo_lista[comienzo:final]\n",
    "elemento1f = ''.join(elemento1)\n",
    "elemento1ff = elemento1f.center(largo) # Centro el elemento\n",
    "print(elemento1ff)\n",
    "while largo >= comienzo: # Creo un ciclo para las demas filas de la piramide\n",
    "    comienzo = finalv # Siguiendo la progresion que describe la piramide\n",
    "    final += 1\n",
    "    finalv = final**2\n",
    "    elemento = triangulo_lista[comienzo:finalv]\n",
    "    elementof =''.join(elemento)\n",
    "    elementoff = elementof.center(largo) # Centrando cada fila\n",
    "    print(elementoff)"
   ]
  },
  {
   "cell_type": "code",
   "execution_count": 8,
   "metadata": {},
   "outputs": [
    {
     "name": "stdout",
     "output_type": "stream",
     "text": [
      "Ingrese una cadena de texto: hola bebe que mas pues\n",
      "aabbeeeehlmopqssuu\n"
     ]
    }
   ],
   "source": [
    "cadena = list(input(\"Ingrese una cadena de texto: \"))\n",
    "cadena.sort() # Usamos este comando para ordenar los elementos de la lista\n",
    "cadenaf = ''.join(cadena) # La convertimos en cadena\n",
    "x = cadenaf.strip() # Eliminamos los parentesis que se posicionaron al \n",
    "# comienzo de la cadena\n",
    "print(x)"
   ]
  },
  {
   "cell_type": "code",
   "execution_count": 9,
   "metadata": {},
   "outputs": [
    {
     "name": "stdout",
     "output_type": "stream",
     "text": [
      "Ingrese el tamaño de la lista: 5\n",
      "Ingrese el elemento 1: 1\n",
      "Ingrese el elemento 2: 1\n",
      "Ingrese el elemento 3: 2\n",
      "Ingrese el elemento 4: 2\n",
      "Ingrese el elemento 5: 5\n",
      "La lista es:  [1, 1, 2, 2, 5]\n",
      "2 numeros se repiten exactamente 2 veces en dicha lista\n"
     ]
    }
   ],
   "source": [
    "lista_1 = []\n",
    "longitud1 = int(input(\"Ingrese el tamaño de la lista: \"))\n",
    "while longitud1 < 0: # Para corregir a una longitud valida\n",
    "    longitud1 = int(input(\"Tamaño invalido, intente otra vez: \"))\n",
    "for i in range (longitud1): # Mientras i este dentro del rango de longitud\n",
    "    lista_1.append(int(input(f\"Ingrese el elemento {i+1}: \"))) # Sumar lo \n",
    "    # ingresado en cada elemento correspondiente\n",
    "print(\"La lista es: \",lista_1) # Mostrar la lista\n",
    "\n",
    "contador = 0 # Se establece un contador para enemurar el cumpllimiento del\n",
    "# requisito\n",
    "for elemento in lista_1:\n",
    "    if lista_1.count(elemento) == 2: #Si algun elemento en la lista se \n",
    "        # encuentra 2 veces sumar a contador\n",
    "        contador = (contador+1)\n",
    "    else:\n",
    "        contador = contador\n",
    "print(int(contador/2),\"numeros se repiten exactamente 2 veces en dicha lista\")"
   ]
  },
  {
   "cell_type": "code",
   "execution_count": 12,
   "metadata": {},
   "outputs": [
    {
     "name": "stdout",
     "output_type": "stream",
     "text": [
      "Digite la cantidad de elementos de la lista (tamaño): 4\n",
      "Digite lista de números ordenados en forma ascendente: 1\n",
      "Digite lista de números ordenados en forma ascendente: 45\n",
      "Digite lista de números ordenados en forma ascendente: 58\n",
      "Digite lista de números ordenados en forma ascendente: 98\n",
      "La lista está correctamente ordenada de manera ascendente\n",
      "Digite un número para insertarlo en la lista en su correspondiente puesto: 50\n",
      "La lista resultante obtenida es: [1, 45, 50, 58, 98]\n"
     ]
    }
   ],
   "source": [
    "lista_ord = [] \n",
    "tam = int(input('Digite la cantidad de elementos de la lista (tamaño): '))\n",
    "tam1 = tam - 1 # Variable para determinar si la lista esta ordenada\n",
    "tam2 = tam + 1 # Variable apra insertar un valor en la posicion indicada\n",
    "if tam < 0:\n",
    "    print('ERROR-No dígito un valor válido para tamaño de lista')\n",
    "if tam == 1:\n",
    "    lista_ord.append((int(input('Digite el elemento de la lista: '))))   \n",
    "    print('La lista solo tiene un elemento')   #Imprime que la lista solo tiene \n",
    "    # un elemento\n",
    "else:\n",
    "    while tam > 0:\n",
    "        tam = tam - 1 # Reducimos el tamaño para posteriormente cerrar\n",
    "        # el ciclo while\n",
    "        lista_ord.append((int(input('Digite lista de números ordenados en\\\n",
    " forma ascendente: ')))) # Se ingresa cada elemento de la lista en forma \n",
    "                         # ascendente al igual que se suma a la lista\n",
    "    suma_i = 0 # Primer termino de la lista comparado a cero\n",
    "    suma_j = 1 # Segundo termino de la lsita comaparado a uno\n",
    "    correcto = 0                                  \n",
    "    while suma_j <= tam1:\n",
    "        if lista_ord[suma_i] <= lista_ord[suma_j]: \n",
    "            suma_i = suma_i + 1 # Incrementamos la posición \n",
    "            # del primer termino en uno\n",
    "            suma_j = suma_j + 1 # Incrementamos la posicion del segundo \n",
    "            # termino en uno\n",
    "            correcto = correcto + 1 \n",
    "        else:\n",
    "            correcto = 0\n",
    "            break            \n",
    "    if correcto == (tam1):\n",
    "        print('La lista está correctamente ordenada de manera ascendente')\n",
    "        \n",
    "        num = int(input('Digite un número para insertarlo en la lista en su\\\n",
    " correspondiente puesto: ')) # Ingresa un valor para posicionarlo en la lista\n",
    "    \n",
    "        puesto = 0  # Se inicia la variable en cero para determinar la posición \n",
    "                    # del número ingresado en la lista\n",
    "        while tam1 > 0:\n",
    "            tam1 = tam1 - 1 \n",
    "            if num < lista_ord[puesto]: #Se compara el número ingresado con\n",
    "                # cada uno de los terminos de la lista para posicionarlo\n",
    "                lista_ord.insert(puesto, num) # Se insierta en su nueva\n",
    "                # posicion\n",
    "                break            \n",
    "            puesto = puesto + 1  # Se aumenta la variable cada vez que se itera\n",
    "            \n",
    "            if num >= lista_ord[-1]: \n",
    "                lista_ord.insert(tam2, num)\n",
    "                       #Insertamos el numero en la ultima posicion\n",
    "                break                \n",
    "        print('La lista resultante obtenida es:',lista_ord)\n",
    "    else:\n",
    "        print('La lista NO está correctamente ordenada de manera ascendente')"
   ]
  },
  {
   "cell_type": "code",
   "execution_count": 14,
   "metadata": {},
   "outputs": [
    {
     "name": "stdout",
     "output_type": "stream",
     "text": [
      "Ingrese la longitud de la lista: 6\n",
      "Digite el elemento 1: 1\n",
      "Digite el elemento 2: 2\n",
      "Digite el elemento 3: 3\n",
      "Digite el elemento 4: 5\n",
      "Digite el elemento 5: 1\n",
      "Digite el elemento 6: 5\n",
      "La lista es:  ['1', '2', '3', '5', '1', '5']\n",
      "El segundo elemento con mayor tamaño es 2\n",
      "El segundo elemento con mayor tamaño es 5\n",
      "El segundo elemento con mayor tamaño es 5\n"
     ]
    }
   ],
   "source": [
    "import sys\n",
    "lista_1 = []\n",
    "longitud_1= int(input(\"Ingrese la longitud de la lista: \"))\n",
    "while longitud_1 < 0: # No se admiten tamaños de listas negativas\n",
    "    longitud_1 = int(input(\"Longitud invalida, ingrese de nuevo: \"))\n",
    "for i in range (longitud_1): # Ingresamos la lsita valor por valor\n",
    "    lista_1.append(input(f\"Digite el elemento {i+1}: \"))\n",
    "print(\"La lista es: \",lista_1)\n",
    "tamaño_1 = 0\n",
    "for i in lista_1:\n",
    "    tamaño = sys.getsizeof(i) # Nos da el tamaño de cada elemento\n",
    "    if tamaño >= tamaño_1: # Comparamos tamaños\n",
    "        tamaño_1 = tamaño\n",
    "for i in lista_1:\n",
    "    if sys.getsizeof(i) == tamaño_1:\n",
    "        lista_1.remove(i) # Removemos el elemento de mayor tamaño\n",
    "tamaño_2 = 0\n",
    "for i in lista_1:\n",
    "    tamaño = sys.getsizeof(i)\n",
    "    if tamaño > tamaño_2: # Luego encontramos el segundo elemento de mayor\n",
    "        # tamaño\n",
    "        tamaño_2 = tamaño\n",
    "for i in lista_1:\n",
    "    if sys.getsizeof(i) == tamaño_1:\n",
    "        print(\"El segundo elemento con mayor tamaño es\",i)"
   ]
  },
  {
   "cell_type": "code",
   "execution_count": null,
   "metadata": {},
   "outputs": [],
   "source": []
  }
 ],
 "metadata": {
  "kernelspec": {
   "display_name": "Python 3",
   "language": "python",
   "name": "python3"
  },
  "language_info": {
   "codemirror_mode": {
    "name": "ipython",
    "version": 3
   },
   "file_extension": ".py",
   "mimetype": "text/x-python",
   "name": "python",
   "nbconvert_exporter": "python",
   "pygments_lexer": "ipython3",
   "version": "3.7.3"
  }
 },
 "nbformat": 4,
 "nbformat_minor": 2
}
